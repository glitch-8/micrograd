{
 "cells": [
  {
   "cell_type": "code",
   "execution_count": 1,
   "id": "a453269a",
   "metadata": {},
   "outputs": [],
   "source": [
    "import pandas as pd\n",
    "from sklearn.datasets import load_digits\n",
    "from sklearn.model_selection import train_test_split\n",
    "import matplotlib.pyplot as plt\n",
    "from tqdm import tqdm\n",
    "\n",
    "from minigrad.engine import Value\n",
    "from minigrad.loss import BCELoss, CategoricalCrossEntropyLoss\n",
    "from minigrad.nn import MLP\n",
    "from minigrad.optim import SGD, ADAGrad, RMSProp, ADAM"
   ]
  },
  {
   "cell_type": "code",
   "execution_count": 2,
   "id": "01f87dba",
   "metadata": {},
   "outputs": [
    {
     "name": "stdout",
     "output_type": "stream",
     "text": [
      "(1797, 64)\n"
     ]
    },
    {
     "data": {
      "image/png": "[encoded data removed]",
      "text/plain": [
       "<Figure size 480x480 with 1 Axes>"
      ]
     },
     "metadata": {},
     "output_type": "display_data"
    }
   ],
   "source": [
    "digits = load_digits()\n",
    "print(digits.data.shape)\n",
    "\n",
    "plt.matshow(digits.images[1], cmap='gray')\n",
    "\n",
    "X = pd.DataFrame(digits.data, columns=digits.feature_names)\n",
    "y = pd.DataFrame(digits.target, columns=['TARGET'])\n",
    "\n",
    "X_train, X_test, y_train, y_test = train_test_split(X, y, test_size=0.10, random_state=8, shuffle=True, stratify=y)"
   ]
  },
  {
   "cell_type": "code",
   "execution_count": 3,
   "id": "32571efb",
   "metadata": {},
   "outputs": [
    {
     "name": "stderr",
     "output_type": "stream",
     "text": [
      " 10%|█         | 1/10 [00:40<06:07, 40.87s/it]"
     ]
    },
    {
     "name": "stdout",
     "output_type": "stream",
     "text": [
      "Epoch: 0, Loss: Value(data=2.4122930652235324, grad=1, label=)\n"
     ]
    },
    {
     "name": "stderr",
     "output_type": "stream",
     "text": [
      " 20%|██        | 2/10 [01:48<07:33, 56.75s/it]"
     ]
    },
    {
     "name": "stdout",
     "output_type": "stream",
     "text": [
      "Epoch: 1, Loss: Value(data=2.2534885267534057, grad=1, label=)\n"
     ]
    },
    {
     "name": "stderr",
     "output_type": "stream",
     "text": [
      " 30%|███       | 3/10 [03:46<09:51, 84.57s/it]"
     ]
    },
    {
     "name": "stdout",
     "output_type": "stream",
     "text": [
      "Epoch: 2, Loss: Value(data=2.048507499514049, grad=1, label=)\n"
     ]
    },
    {
     "name": "stderr",
     "output_type": "stream",
     "text": [
      " 40%|████      | 4/10 [05:49<09:58, 99.75s/it]"
     ]
    },
    {
     "name": "stdout",
     "output_type": "stream",
     "text": [
      "Epoch: 3, Loss: Value(data=1.906397722338103, grad=1, label=)\n"
     ]
    },
    {
     "name": "stderr",
     "output_type": "stream",
     "text": [
      " 50%|█████     | 5/10 [08:01<09:16, 111.29s/it]"
     ]
    },
    {
     "name": "stdout",
     "output_type": "stream",
     "text": [
      "Epoch: 4, Loss: Value(data=1.7055477093904836, grad=1, label=)\n"
     ]
    },
    {
     "name": "stderr",
     "output_type": "stream",
     "text": [
      " 60%|██████    | 6/10 [09:45<07:15, 108.86s/it]"
     ]
    },
    {
     "name": "stdout",
     "output_type": "stream",
     "text": [
      "Epoch: 5, Loss: Value(data=1.5939184731571026, grad=1, label=)\n"
     ]
    },
    {
     "name": "stderr",
     "output_type": "stream",
     "text": [
      " 70%|███████   | 7/10 [11:58<05:50, 116.90s/it]"
     ]
    },
    {
     "name": "stdout",
     "output_type": "stream",
     "text": [
      "Epoch: 6, Loss: Value(data=1.4742956762506676, grad=1, label=)\n"
     ]
    },
    {
     "name": "stderr",
     "output_type": "stream",
     "text": [
      " 80%|████████  | 8/10 [13:41<03:45, 112.52s/it]"
     ]
    },
    {
     "name": "stdout",
     "output_type": "stream",
     "text": [
      "Epoch: 7, Loss: Value(data=1.3647230513909152, grad=1, label=)\n"
     ]
    },
    {
     "name": "stderr",
     "output_type": "stream",
     "text": [
      " 90%|█████████ | 9/10 [15:51<01:57, 117.89s/it]"
     ]
    },
    {
     "name": "stdout",
     "output_type": "stream",
     "text": [
      "Epoch: 8, Loss: Value(data=1.2547087670182644, grad=1, label=)\n"
     ]
    },
    {
     "name": "stderr",
     "output_type": "stream",
     "text": [
      "100%|██████████| 10/10 [17:34<00:00, 105.49s/it]"
     ]
    },
    {
     "name": "stdout",
     "output_type": "stream",
     "text": [
      "Epoch: 9, Loss: Value(data=1.147235913297542, grad=1, label=)\n"
     ]
    },
    {
     "name": "stderr",
     "output_type": "stream",
     "text": [
      "\n"
     ]
    }
   ],
   "source": [
    "classifier = MLP(\n",
    "    nin=len(X_train.columns),\n",
    "    nouts=[16, len(digits.target_names)],\n",
    "    activation='tanh'\n",
    ")\n",
    "\n",
    "# setup hyperparameters\n",
    "epochs = 10\n",
    "\n",
    "# setup loss function and optimizer\n",
    "cce_loss = CategoricalCrossEntropyLoss()\n",
    "optimizer = SGD(\n",
    "    params=classifier.parameters()\n",
    ")\n",
    "\n",
    "actuals = [\n",
    "    [1 if i == actual else 0 for i in range(10)]\n",
    "    for actual in y_train.TARGET.values\n",
    "]\n",
    "\n",
    "epoch_to_params = {}\n",
    "for e in tqdm(range(epochs), total=epochs):\n",
    "# for e in range(epochs):\n",
    "    # forward pass\n",
    "    ypreds = [classifier(x.values) for _, x in X_train.iterrows()]\n",
    "    loss = cce_loss(actuals, ypreds)\n",
    "\n",
    "    # zero grad\n",
    "    classifier.zero_grad()\n",
    "\n",
    "    # backward prop\n",
    "    loss.backward()\n",
    "\n",
    "    # recalculate the new values for all parameters - optimizer.step()\n",
    "    optimizer.step()\n",
    "\n",
    "    epoch_to_params.update({\n",
    "        e: classifier.parameters()\n",
    "    })\n",
    "\n",
    "    print(f'Epoch: {e}, Loss: {loss}')"
   ]
  },
  {
   "cell_type": "code",
   "execution_count": 4,
   "id": "06e84f83",
   "metadata": {},
   "outputs": [],
   "source": [
    "all_res = list()\n",
    "for counter in range(len(X_test)):\n",
    "    pred = sorted(\n",
    "        [(cnt, val) for cnt, val in enumerate(classifier(X_test.iloc[counter, :].values))],\n",
    "        key = lambda x: x[1],\n",
    "        reverse=True\n",
    "    )[0][0]\n",
    "    actual = int(y_test.iloc[counter, :].TARGET)\n",
    "\n",
    "    res = {\n",
    "        'PREDICTED': pred,\n",
    "        'ACTUAL': actual\n",
    "    }\n",
    "\n",
    "    all_res.append(res)"
   ]
  },
  {
   "cell_type": "code",
   "execution_count": null,
   "id": "af61fe97",
   "metadata": {},
   "outputs": [],
   "source": [
    "res_df = pd.DataFrame.from_records(all_res)\n",
    "res_df['IS_CORRECT'] = res_df.apply(lambda row: int(row['PREDICTED'] == row['ACTUAL']), axis = 1)\n",
    "len(res_df.loc[res_df.IS_CORRECT == 1])/len(res_df)"
   ]
  }
 ],
 "metadata": {
  "kernelspec": {
   "display_name": ".venv",
   "language": "python",
   "name": "python3"
  },
  "language_info": {
   "codemirror_mode": {
    "name": "ipython",
    "version": 3
   },
   "file_extension": ".py",
   "mimetype": "text/x-python",
   "name": "python",
   "nbconvert_exporter": "python",
   "pygments_lexer": "ipython3",
   "version": "3.13.5"
  }
 },
 "nbformat": 4,
 "nbformat_minor": 5
}
