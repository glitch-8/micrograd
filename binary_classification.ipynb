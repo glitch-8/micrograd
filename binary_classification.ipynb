{
 "cells": [
  {
   "cell_type": "code",
   "execution_count": 9,
   "id": "ee75d28f",
   "metadata": {},
   "outputs": [],
   "source": [
    "import pandas as pd\n",
    "from tqdm import tqdm\n",
    "from sklearn.datasets import load_breast_cancer\n",
    "from sklearn.model_selection import train_test_split\n",
    "from sklearn.preprocessing import StandardScaler\n",
    "from sklearn.metrics import precision_score, recall_score\n",
    "\n",
    "from minigrad.loss import BCELoss\n",
    "from minigrad.nn import MLP\n",
    "from minigrad.optim import ADAM"
   ]
  },
  {
   "cell_type": "code",
   "execution_count": null,
   "id": "9b76931a",
   "metadata": {},
   "outputs": [],
   "source": [
    "breast_cancer = load_breast_cancer()\n",
    "\n",
    "X = pd.DataFrame(breast_cancer.data, columns=breast_cancer.feature_names)\n",
    "y = pd.DataFrame(breast_cancer.target, columns=['TARGET'])\n",
    "\n",
    "X_train, X_test, y_train, y_test = train_test_split(\n",
    "    X,\n",
    "    y,\n",
    "    test_size=0.1,\n",
    "    random_state=8,\n",
    "    shuffle=True,\n",
    "    stratify=y\n",
    ")\n",
    "\n",
    "# normalize all features\n",
    "scaler = StandardScaler() # scaling is important here because math.exp() overflows for arguments>700\n",
    "X_train[breast_cancer.feature_names] = scaler.fit_transform(X_train[breast_cancer.feature_names])\n",
    "X_test[breast_cancer.feature_names] = scaler.transform(X_test[breast_cancer.feature_names])"
   ]
  },
  {
   "cell_type": "code",
   "execution_count": 3,
   "id": "cc916cd6",
   "metadata": {},
   "outputs": [
    {
     "name": "stderr",
     "output_type": "stream",
     "text": [
      " 10%|█         | 1/10 [00:04<00:40,  4.55s/it]"
     ]
    },
    {
     "name": "stdout",
     "output_type": "stream",
     "text": [
      "Epoch: 0, Loss: Value(data=0.675142696337288, grad=1, label=)\n"
     ]
    },
    {
     "name": "stderr",
     "output_type": "stream",
     "text": [
      " 20%|██        | 2/10 [00:09<00:38,  4.77s/it]"
     ]
    },
    {
     "name": "stdout",
     "output_type": "stream",
     "text": [
      "Epoch: 1, Loss: Value(data=0.49757587929753555, grad=1, label=)\n"
     ]
    },
    {
     "name": "stderr",
     "output_type": "stream",
     "text": [
      " 30%|███       | 3/10 [00:16<00:41,  5.90s/it]"
     ]
    },
    {
     "name": "stdout",
     "output_type": "stream",
     "text": [
      "Epoch: 2, Loss: Value(data=0.35650581724856284, grad=1, label=)\n"
     ]
    },
    {
     "name": "stderr",
     "output_type": "stream",
     "text": [
      " 40%|████      | 4/10 [00:22<00:35,  5.91s/it]"
     ]
    },
    {
     "name": "stdout",
     "output_type": "stream",
     "text": [
      "Epoch: 3, Loss: Value(data=0.2623154630928383, grad=1, label=)\n"
     ]
    },
    {
     "name": "stderr",
     "output_type": "stream",
     "text": [
      " 50%|█████     | 5/10 [00:29<00:31,  6.32s/it]"
     ]
    },
    {
     "name": "stdout",
     "output_type": "stream",
     "text": [
      "Epoch: 4, Loss: Value(data=0.19853770522388492, grad=1, label=)\n"
     ]
    },
    {
     "name": "stderr",
     "output_type": "stream",
     "text": [
      " 60%|██████    | 6/10 [00:37<00:27,  6.76s/it]"
     ]
    },
    {
     "name": "stdout",
     "output_type": "stream",
     "text": [
      "Epoch: 5, Loss: Value(data=0.1522742688996242, grad=1, label=)\n"
     ]
    },
    {
     "name": "stderr",
     "output_type": "stream",
     "text": [
      " 70%|███████   | 7/10 [00:43<00:19,  6.51s/it]"
     ]
    },
    {
     "name": "stdout",
     "output_type": "stream",
     "text": [
      "Epoch: 6, Loss: Value(data=0.11933238988980067, grad=1, label=)\n"
     ]
    },
    {
     "name": "stderr",
     "output_type": "stream",
     "text": [
      " 80%|████████  | 8/10 [00:50<00:13,  6.70s/it]"
     ]
    },
    {
     "name": "stdout",
     "output_type": "stream",
     "text": [
      "Epoch: 7, Loss: Value(data=0.09743193580896609, grad=1, label=)\n"
     ]
    },
    {
     "name": "stderr",
     "output_type": "stream",
     "text": [
      " 90%|█████████ | 9/10 [00:57<00:06,  6.97s/it]"
     ]
    },
    {
     "name": "stdout",
     "output_type": "stream",
     "text": [
      "Epoch: 8, Loss: Value(data=0.08568154114174314, grad=1, label=)\n"
     ]
    },
    {
     "name": "stderr",
     "output_type": "stream",
     "text": [
      "100%|██████████| 10/10 [01:05<00:00,  6.59s/it]"
     ]
    },
    {
     "name": "stdout",
     "output_type": "stream",
     "text": [
      "Epoch: 9, Loss: Value(data=0.08131089652750098, grad=1, label=)\n"
     ]
    },
    {
     "name": "stderr",
     "output_type": "stream",
     "text": [
      "\n"
     ]
    }
   ],
   "source": [
    "classifier = MLP(\n",
    "    nin=len(X_train.columns),\n",
    "    nouts=[16, 1],\n",
    "    activation='sigmoid',\n",
    "    final_layer_activation='sigmoid'\n",
    ")\n",
    "\n",
    "#setup hyperparameters\n",
    "epochs = 10\n",
    "\n",
    "# setup loss function and optimizer\n",
    "bce_loss = BCELoss()\n",
    "optimizer = ADAM(\n",
    "    params=classifier.parameters()\n",
    ")\n",
    "\n",
    "actuals = [int(v) for v in list(y_train.TARGET.values)]\n",
    "\n",
    "for e in tqdm(range(epochs), total=epochs):\n",
    "    # forward pass\n",
    "    ypreds = [classifier(x.values) for _, x in X_train.iterrows()]\n",
    "    loss = bce_loss(actuals, ypreds)\n",
    "\n",
    "    # zero grad\n",
    "    classifier.zero_grad()\n",
    "\n",
    "    # backward prop\n",
    "    loss.backward()\n",
    "\n",
    "    # recalculate new values for all params\n",
    "    optimizer.step()\n",
    "\n",
    "    print(f'Epoch: {e}, Loss: {loss}')"
   ]
  },
  {
   "cell_type": "code",
   "execution_count": 5,
   "id": "d2a6e3e6",
   "metadata": {},
   "outputs": [],
   "source": [
    "all_res = list()\n",
    "X_test.reset_index(drop=True, inplace=True)\n",
    "y_test.reset_index(drop=True, inplace=True)\n",
    "for counter, x in X_test.iterrows():\n",
    "    pred = 0 if classifier(x.values).data < 0.5 else 1\n",
    "    actual = int(y_test.iloc[counter, :].TARGET)\n",
    "\n",
    "    res = {\n",
    "        'PREDICTED': pred,\n",
    "        'ACTUAL': actual\n",
    "    }\n",
    "\n",
    "    all_res.append(res)"
   ]
  },
  {
   "cell_type": "code",
   "execution_count": 11,
   "id": "11681ef4",
   "metadata": {},
   "outputs": [
    {
     "name": "stdout",
     "output_type": "stream",
     "text": [
      "Accuracy: 0.9649122807017544\n",
      "Precision: 1.0, Recall: 0.9444444444444444\n"
     ]
    }
   ],
   "source": [
    "res_df = pd.DataFrame.from_records(all_res)\n",
    "res_df['IS_CORRECT'] = res_df.apply(lambda row: int(row['PREDICTED'] == row['ACTUAL']), axis = 1)\n",
    "print(f'Accuracy: {len(res_df.loc[res_df.IS_CORRECT == 1])/len(res_df)}')\n",
    "precision = precision_score(res_df.ACTUAL.values, res_df.PREDICTED.values)\n",
    "recall = recall_score(res_df.ACTUAL.values, res_df.PREDICTED.values)\n",
    "print(f'Precision: {precision}, Recall: {recall}')"
   ]
  },
  {
   "cell_type": "code",
   "execution_count": null,
   "id": "ca01674d",
   "metadata": {},
   "outputs": [],
   "source": []
  }
 ],
 "metadata": {
  "kernelspec": {
   "display_name": ".venv",
   "language": "python",
   "name": "python3"
  },
  "language_info": {
   "codemirror_mode": {
    "name": "ipython",
    "version": 3
   },
   "file_extension": ".py",
   "mimetype": "text/x-python",
   "name": "python",
   "nbconvert_exporter": "python",
   "pygments_lexer": "ipython3",
   "version": "3.13.5"
  }
 },
 "nbformat": 4,
 "nbformat_minor": 5
}
